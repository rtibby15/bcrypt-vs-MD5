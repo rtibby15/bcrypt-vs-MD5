{
 "cells": [
  {
   "cell_type": "code",
   "execution_count": 1,
   "id": "a44a0dba",
   "metadata": {},
   "outputs": [
    {
     "name": "stdout",
     "output_type": "stream",
     "text": [
      "0.25590991973876953\n",
      "b'$2b$12$dCcY.WqxupguIBhJA2wntuLpEhccqln0hOIpS3UgmG6EzxMLogVH6'\n"
     ]
    }
   ],
   "source": [
    "import bcrypt\n",
    "import time\n",
    "  \n",
    "# example password\n",
    "password = 'MikeJordan@12'\n",
    "\n",
    "start = time.time()  \n",
    "bytes = password.encode('utf-8')\n",
    "salt = bcrypt.gensalt()\n",
    "hash = bcrypt.hashpw(bytes, salt)\n",
    "end = time.time()\n",
    "\n",
    "print(end - start)\n",
    "  \n",
    "print(hash)"
   ]
  },
  {
   "cell_type": "code",
   "execution_count": null,
   "id": "72adf0dc",
   "metadata": {},
   "outputs": [],
   "source": []
  },
  {
   "cell_type": "code",
   "execution_count": null,
   "id": "9c43c96c",
   "metadata": {},
   "outputs": [],
   "source": []
  }
 ],
 "metadata": {
  "kernelspec": {
   "display_name": "Python 3 (ipykernel)",
   "language": "python",
   "name": "python3"
  },
  "language_info": {
   "codemirror_mode": {
    "name": "ipython",
    "version": 3
   },
   "file_extension": ".py",
   "mimetype": "text/x-python",
   "name": "python",
   "nbconvert_exporter": "python",
   "pygments_lexer": "ipython3",
   "version": "3.9.13"
  }
 },
 "nbformat": 4,
 "nbformat_minor": 5
}
