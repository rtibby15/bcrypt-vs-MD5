{
 "cells": [
  {
   "cell_type": "code",
   "execution_count": 11,
   "id": "4cc08aa0",
   "metadata": {},
   "outputs": [
    {
     "name": "stdout",
     "output_type": "stream",
     "text": [
      "The byte equivalent of hash is : 9.107589721679688e-05\n",
      "b']4r\\x0f\\xf4b`@b\\x9d85\\xd5\\xf6\\x91\\xe8'\n"
     ]
    }
   ],
   "source": [
    "import hashlib\n",
    "import time\n",
    " \n",
    "start = time.time() \n",
    "result = hashlib.md5(b'MikeJordan@12')\n",
    "end = time.time()\n",
    " \n",
    "print(\"The byte equivalent of hash is : \", end =\"\")\n",
    "\n",
    "print(end-start)\n",
    "\n",
    "print(result.digest())"
   ]
  },
  {
   "cell_type": "code",
   "execution_count": 9,
   "id": "46f8b527",
   "metadata": {},
   "outputs": [
    {
     "name": "stdout",
     "output_type": "stream",
     "text": [
      "0.2486400604248047\n",
      "b'$2b$12$zwM.1/ceO64a591OHNgSPOE93XdYSuAO5oAI3JkNpPNk7owb6m5zy'\n"
     ]
    }
   ],
   "source": [
    "import bcrypt\n",
    "import time\n",
    "  \n",
    "# example password\n",
    "password = 'MikeJordan@12'\n",
    "\n",
    "start = time.time()  \n",
    "bytes = password.encode('utf-8')\n",
    "salt = bcrypt.gensalt()\n",
    "hash = bcrypt.hashpw(bytes, salt)\n",
    "end = time.time()\n",
    "\n",
    "print(end - start)\n",
    "  \n",
    "print(hash)"
   ]
  },
  {
   "cell_type": "code",
   "execution_count": null,
   "id": "f2eb66e6",
   "metadata": {},
   "outputs": [],
   "source": []
  },
  {
   "cell_type": "code",
   "execution_count": null,
   "id": "48a33c5e",
   "metadata": {},
   "outputs": [],
   "source": []
  }
 ],
 "metadata": {
  "kernelspec": {
   "display_name": "Python 3 (ipykernel)",
   "language": "python",
   "name": "python3"
  },
  "language_info": {
   "codemirror_mode": {
    "name": "ipython",
    "version": 3
   },
   "file_extension": ".py",
   "mimetype": "text/x-python",
   "name": "python",
   "nbconvert_exporter": "python",
   "pygments_lexer": "ipython3",
   "version": "3.9.13"
  }
 },
 "nbformat": 4,
 "nbformat_minor": 5
}
